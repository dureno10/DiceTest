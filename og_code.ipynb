{
 "cells": [
  {
   "cell_type": "code",
   "execution_count": null,
   "id": "d290f484-89d7-440f-a1d7-13b28d6708bf",
   "metadata": {},
   "outputs": [],
   "source": [
    "import random\n",
    "\n",
    "total_matched = 0\n",
    "times_played = 0\n",
    "\n",
    "while True:\n",
    "    print(\"Dice Game:\")\n",
    "    print(\"Please choose a number between 1-6:\")\n",
    "    user = int(input())\n",
    "\n",
    "    d1 = random.randint(1, 6)\n",
    "    d2 = random.randint(1, 6)\n",
    "    d3 = random.randint(1, 6)\n",
    "    d4 = random.randint(1, 6)\n",
    "    d5 = random.randint(1, 6)\n",
    "    \n",
    "    dice = [d1, d2, d3, d4, d5]\n",
    "    print(\"Dice:\", dice)\n",
    "\n",
    "    i = dice.count(user)\n",
    "    print(\"You matched with this many dice:\", i)\n",
    "    total_matched += i\n",
    "\n",
    "    play_again = input(\"Want to roll again? (yes or no): \")\n",
    "    times_played += 1\n",
    "\n",
    "    if play_again.lower() != \"yes\":\n",
    "        print(\"You played this many times:\", times_played)\n",
    "        print(\"You have matched a total of\", total_matched, \"times\")\n",
    "        break\n"
   ]
  }
 ],
 "metadata": {
  "kernelspec": {
   "display_name": "Python 3 (ipykernel)",
   "language": "python",
   "name": "python3"
  },
  "language_info": {
   "codemirror_mode": {
    "name": "ipython",
    "version": 3
   },
   "file_extension": ".py",
   "mimetype": "text/x-python",
   "name": "python",
   "nbconvert_exporter": "python",
   "pygments_lexer": "ipython3",
   "version": "3.11.5"
  }
 },
 "nbformat": 4,
 "nbformat_minor": 5
}
